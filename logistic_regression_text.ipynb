{
 "cells": [
  {
   "cell_type": "markdown",
   "id": "70246b55",
   "metadata": {},
   "source": [
    "# Creating a Baseline Text Classifier Model Using Logistic Regression (And more)"
   ]
  },
  {
   "cell_type": "markdown",
   "id": "c0aa413c",
   "metadata": {},
   "source": []
  },
  {
   "cell_type": "code",
   "execution_count": 1,
   "id": "bf204f67",
   "metadata": {},
   "outputs": [],
   "source": [
    "import pandas as pd\n",
    "from sklearn.linear_model import LogisticRegression\n",
    "from sklearn.model_selection import train_test_split\n",
    "from sklearn.feature_extraction.text import TfidfVectorizer\n",
    "from sklearn.metrics import accuracy_score, classification_report"
   ]
  },
  {
   "cell_type": "code",
   "execution_count": null,
   "id": "0e92f607",
   "metadata": {},
   "outputs": [],
   "source": [
    "import os\n",
    "\n",
    "## importing data through google drive\n",
    "from google.colab import drive\n",
    "# drive.mount('/content/drive', force_remount=True)\n",
    "# project_folder = '/content/drive/My Drive/CS463/projects/'\n",
    "\n",
    "## importing data through local machine (jupyter/IDE/code editor)\n",
    "\n",
    "## downloading dataset NOT from local machine, but from external cloud storage\n",
    "project_folder = '/Users/happiness/Desktop/463cs/projects/463_dc_1/datasets' ## my filepath on my local machine\n",
    "\n",
    "train_data_f_path = os.path.join(project_folder, 'train_data.csv')\n",
    "\n",
    "train_df = pd.read_csv(train_data_f_path)\n"
   ]
  },
  {
   "cell_type": "code",
   "execution_count": null,
   "id": "ffed36d9",
   "metadata": {},
   "outputs": [],
   "source": [
    "## null preprocessing\n",
    "print(df.isnull().sum())\n",
    "df = df.dropna()\n",
    "\n",
    "train_texts, test_texts, train_labels, test_labels = train_test_split(\n",
    "    df['text'], df['label'], test_size=0.2, random_state=42\n",
    ")"
   ]
  },
  {
   "cell_type": "code",
   "execution_count": null,
   "id": "cbf96de2",
   "metadata": {},
   "outputs": [],
   "source": [
    "# Turn text into feature vectors\n",
    "vectorizer = TfidfVectorizer(max_features=10000)\n",
    "\n",
    "# Fit on training texts and transform both train and test\n",
    "X_train = vectorizer.fit_transform(train_texts)\n",
    "X_test = vectorizer.transform(test_texts)"
   ]
  },
  {
   "cell_type": "code",
   "execution_count": null,
   "id": "e83bd0b2",
   "metadata": {},
   "outputs": [],
   "source": []
  }
 ],
 "metadata": {
  "kernelspec": {
   "display_name": "ml",
   "language": "python",
   "name": "python3"
  },
  "language_info": {
   "codemirror_mode": {
    "name": "ipython",
    "version": 3
   },
   "file_extension": ".py",
   "mimetype": "text/x-python",
   "name": "python",
   "nbconvert_exporter": "python",
   "pygments_lexer": "ipython3",
   "version": "3.11.4"
  }
 },
 "nbformat": 4,
 "nbformat_minor": 5
}
